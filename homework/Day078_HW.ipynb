{
 "cells": [
  {
   "cell_type": "markdown",
   "metadata": {},
   "source": [
    "## Work\n",
    "1. 請嘗試將 preproc_x 替換成以每筆資料的 min/max 進行標準化至 -1 ~ 1 間，再進行訓練\n",
    "2. 請嘗試將 mlp 疊更深 (e.g 5~10 層)，進行訓練後觀察 learning curve 的走勢\n",
    "3. (optional) 請改用 GPU 進行訓練 (如果你有 GPU 的話)，比較使用 CPU 與 GPU 的訓練速度"
   ]
  },
  {
   "cell_type": "code",
   "execution_count": 1,
   "metadata": {},
   "outputs": [],
   "source": [
    "## \n",
    "\"\"\"\n",
    "Your code here (optional)\n",
    "確認硬體資源\n",
    "\"\"\"\n"
   ]
  },
  {
   "cell_type": "code",
   "execution_count": 1,
   "metadata": {},
   "outputs": [],
   "source": [
    "import os\n",
    "import keras\n",
    "\n",
    "# 請嘗試設定 GPU：os.environ\n",
    "os.environ[\"CUDA_VISIBLE_DEVICES\"] = \"0\""
   ]
  },
  {
   "cell_type": "code",
   "execution_count": 24,
   "metadata": {},
   "outputs": [],
   "source": [
    "train, test = keras.datasets.cifar10.load_data()"
   ]
  },
  {
   "cell_type": "code",
   "execution_count": 32,
   "metadata": {},
   "outputs": [],
   "source": [
    "## 資料前處理\n",
    "\"\"\"\n",
    "Your code here\n",
    "\"\"\"\n",
    "from sklearn.preprocessing import MinMaxScaler\n",
    "\n",
    "def preproc_x(x):\n",
    "    x = x.reshape((len(x),-1))\n",
    "    MM = MinMaxScaler()\n",
    "    MM.fit_transform(x)\n",
    "    return x \n",
    "    \n",
    "\n",
    "def preproc_y(y,num_classes = 10):\n",
    "    if y.shape[-1] == 1:\n",
    "        y = keras.utils.to_categorical(y, num_classes)\n",
    "    return y "
   ]
  },
  {
   "cell_type": "code",
   "execution_count": 33,
   "metadata": {},
   "outputs": [],
   "source": [
    "x_train, y_train = train\n",
    "x_test, y_test = test\n",
    "\n",
    "# Preproc the inputs\n",
    "x_train = preproc_x(x_train)\n",
    "x_test = preproc_x(x_test)\n",
    "\n",
    "# Preprc the outputs\n",
    "y_train = preproc_y(y_train)\n",
    "y_test = preproc_y(y_test)"
   ]
  },
  {
   "cell_type": "code",
   "execution_count": 35,
   "metadata": {},
   "outputs": [
    {
     "data": {
      "text/plain": [
       "(50000, 3072)"
      ]
     },
     "execution_count": 35,
     "metadata": {},
     "output_type": "execute_result"
    }
   ],
   "source": [
    "x_train.shape"
   ]
  },
  {
   "cell_type": "code",
   "execution_count": 41,
   "metadata": {},
   "outputs": [],
   "source": [
    "\"\"\"Code Here\n",
    "建立你的神經網路\n",
    "\"\"\"\n",
    "def build_mlp(input_shape, output_units=10, num_neurons=[512, 256, 128, 64, 32]):\n",
    "    input_layer = keras.layers.Input(input_shape)\n",
    "    \n",
    "    for i, n_units in enumerate(num_neurons):\n",
    "        if i == 0:\n",
    "            x = keras.layers.Dense(units=n_units, activation=\"relu\", name=\"hidden_layer\"+str(i+1))(input_layer)\n",
    "        else:\n",
    "            x = keras.layers.Dense(units=n_units, activation=\"relu\", name=\"hidden_layer\"+str(i+1))(x)\n",
    "    \n",
    "    out = keras.layers.Dense(units=output_units, activation=\"softmax\", name=\"output\")(x)\n",
    "    \n",
    "    model = keras.models.Model(inputs=[input_layer], outputs=[out])\n",
    "    \n",
    "    return model\n"
   ]
  },
  {
   "cell_type": "code",
   "execution_count": 45,
   "metadata": {},
   "outputs": [
    {
     "name": "stdout",
     "output_type": "stream",
     "text": [
      "Model: \"model_3\"\n",
      "_________________________________________________________________\n",
      "Layer (type)                 Output Shape              Param #   \n",
      "=================================================================\n",
      "input_5 (InputLayer)         [(None, 3072)]            0         \n",
      "_________________________________________________________________\n",
      "hidden_layer1 (Dense)        (None, 512)               1573376   \n",
      "_________________________________________________________________\n",
      "hidden_layer2 (Dense)        (None, 256)               131328    \n",
      "_________________________________________________________________\n",
      "hidden_layer3 (Dense)        (None, 128)               32896     \n",
      "_________________________________________________________________\n",
      "hidden_layer4 (Dense)        (None, 64)                8256      \n",
      "_________________________________________________________________\n",
      "hidden_layer5 (Dense)        (None, 32)                2080      \n",
      "_________________________________________________________________\n",
      "output (Dense)               (None, 10)                330       \n",
      "=================================================================\n",
      "Total params: 1,748,266\n",
      "Trainable params: 1,748,266\n",
      "Non-trainable params: 0\n",
      "_________________________________________________________________\n"
     ]
    }
   ],
   "source": [
    "model = build_mlp(input_shape  = x_train.shape[1:])\n",
    "model.summary()"
   ]
  },
  {
   "cell_type": "code",
   "execution_count": 46,
   "metadata": {},
   "outputs": [],
   "source": [
    "## 超參數設定\n",
    "LEARNING_RATE = 0.001\n",
    "EPOCHS = 100\n",
    "BATCH_SIZE = 256"
   ]
  },
  {
   "cell_type": "code",
   "execution_count": 47,
   "metadata": {},
   "outputs": [],
   "source": [
    "optimizer = keras.optimizers.Adam(lr=LEARNING_RATE)\n",
    "model.compile(loss=\"categorical_crossentropy\", metrics=[\"accuracy\"], optimizer=optimizer)"
   ]
  },
  {
   "cell_type": "code",
   "execution_count": 48,
   "metadata": {},
   "outputs": [
    {
     "name": "stdout",
     "output_type": "stream",
     "text": [
      "Epoch 1/100\n",
      "196/196 [==============================] - 3s 15ms/step - loss: 57.8203 - accuracy: 0.1210 - val_loss: 3.3883 - val_accuracy: 0.1843\n",
      "Epoch 2/100\n",
      "196/196 [==============================] - 3s 13ms/step - loss: 3.0145 - accuracy: 0.2026 - val_loss: 2.4783 - val_accuracy: 0.2083\n",
      "Epoch 3/100\n",
      "196/196 [==============================] - 3s 13ms/step - loss: 2.4131 - accuracy: 0.2414 - val_loss: 2.6139 - val_accuracy: 0.2122\n",
      "Epoch 4/100\n",
      "196/196 [==============================] - 3s 14ms/step - loss: 2.1543 - accuracy: 0.2724 - val_loss: 2.2220 - val_accuracy: 0.2394\n",
      "Epoch 5/100\n",
      "196/196 [==============================] - 3s 15ms/step - loss: 2.0168 - accuracy: 0.3065 - val_loss: 2.0163 - val_accuracy: 0.2932\n",
      "Epoch 6/100\n",
      "196/196 [==============================] - 3s 15ms/step - loss: 2.0157 - accuracy: 0.3069 - val_loss: 1.8894 - val_accuracy: 0.3532\n",
      "Epoch 7/100\n",
      "196/196 [==============================] - 3s 14ms/step - loss: 1.9216 - accuracy: 0.3362 - val_loss: 1.8385 - val_accuracy: 0.3606\n",
      "Epoch 8/100\n",
      "196/196 [==============================] - 2s 13ms/step - loss: 1.8552 - accuracy: 0.3517 - val_loss: 1.7994 - val_accuracy: 0.3831\n",
      "Epoch 9/100\n",
      "196/196 [==============================] - 3s 13ms/step - loss: 1.7987 - accuracy: 0.3756 - val_loss: 1.8620 - val_accuracy: 0.3473\n",
      "Epoch 10/100\n",
      "196/196 [==============================] - 3s 13ms/step - loss: 1.7935 - accuracy: 0.3738 - val_loss: 1.7456 - val_accuracy: 0.3939\n",
      "Epoch 11/100\n",
      "196/196 [==============================] - 3s 13ms/step - loss: 1.7315 - accuracy: 0.3965 - val_loss: 1.8014 - val_accuracy: 0.3752\n",
      "Epoch 12/100\n",
      "196/196 [==============================] - 3s 14ms/step - loss: 1.7212 - accuracy: 0.3978 - val_loss: 1.7636 - val_accuracy: 0.3823\n",
      "Epoch 13/100\n",
      "196/196 [==============================] - 3s 14ms/step - loss: 1.6798 - accuracy: 0.4108 - val_loss: 1.6503 - val_accuracy: 0.4251\n",
      "Epoch 14/100\n",
      "196/196 [==============================] - 3s 13ms/step - loss: 1.6402 - accuracy: 0.4226 - val_loss: 1.9890 - val_accuracy: 0.3068\n",
      "Epoch 15/100\n",
      "196/196 [==============================] - 3s 13ms/step - loss: 1.6597 - accuracy: 0.4162 - val_loss: 1.6946 - val_accuracy: 0.4034\n",
      "Epoch 16/100\n",
      "196/196 [==============================] - 3s 13ms/step - loss: 1.6144 - accuracy: 0.4258 - val_loss: 1.8436 - val_accuracy: 0.3569\n",
      "Epoch 17/100\n",
      "196/196 [==============================] - 3s 14ms/step - loss: 1.6136 - accuracy: 0.4285 - val_loss: 1.6941 - val_accuracy: 0.4005\n",
      "Epoch 18/100\n",
      "196/196 [==============================] - 3s 14ms/step - loss: 1.5898 - accuracy: 0.4400 - val_loss: 1.6094 - val_accuracy: 0.4283\n",
      "Epoch 19/100\n",
      "196/196 [==============================] - 3s 14ms/step - loss: 1.5518 - accuracy: 0.4490 - val_loss: 1.6202 - val_accuracy: 0.4177\n",
      "Epoch 20/100\n",
      "196/196 [==============================] - 3s 13ms/step - loss: 1.5544 - accuracy: 0.4495 - val_loss: 1.6502 - val_accuracy: 0.4201\n",
      "Epoch 21/100\n",
      "196/196 [==============================] - 3s 13ms/step - loss: 1.5432 - accuracy: 0.4508 - val_loss: 1.6866 - val_accuracy: 0.4125\n",
      "Epoch 22/100\n",
      "196/196 [==============================] - 3s 13ms/step - loss: 1.5278 - accuracy: 0.4581 - val_loss: 1.6201 - val_accuracy: 0.4284\n",
      "Epoch 23/100\n",
      "196/196 [==============================] - 3s 14ms/step - loss: 1.4940 - accuracy: 0.4677 - val_loss: 1.6268 - val_accuracy: 0.4320\n",
      "Epoch 24/100\n",
      "196/196 [==============================] - 3s 14ms/step - loss: 1.4849 - accuracy: 0.4665 - val_loss: 1.5723 - val_accuracy: 0.4569\n",
      "Epoch 25/100\n",
      "196/196 [==============================] - 3s 14ms/step - loss: 1.4791 - accuracy: 0.4699 - val_loss: 1.5472 - val_accuracy: 0.4588\n",
      "Epoch 26/100\n",
      "196/196 [==============================] - 3s 13ms/step - loss: 1.4773 - accuracy: 0.4704 - val_loss: 1.6497 - val_accuracy: 0.4241\n",
      "Epoch 27/100\n",
      "196/196 [==============================] - 3s 13ms/step - loss: 1.4769 - accuracy: 0.4700 - val_loss: 1.6044 - val_accuracy: 0.4482\n",
      "Epoch 28/100\n",
      "196/196 [==============================] - 3s 13ms/step - loss: 1.4642 - accuracy: 0.4806 - val_loss: 1.5560 - val_accuracy: 0.4570\n",
      "Epoch 29/100\n",
      "196/196 [==============================] - 3s 14ms/step - loss: 1.4230 - accuracy: 0.4953 - val_loss: 1.6211 - val_accuracy: 0.4343\n",
      "Epoch 30/100\n",
      "196/196 [==============================] - 3s 14ms/step - loss: 1.4297 - accuracy: 0.4911 - val_loss: 1.5617 - val_accuracy: 0.4608\n",
      "Epoch 31/100\n",
      "196/196 [==============================] - 3s 14ms/step - loss: 1.4189 - accuracy: 0.4963 - val_loss: 1.5613 - val_accuracy: 0.4501\n",
      "Epoch 32/100\n",
      "196/196 [==============================] - 3s 13ms/step - loss: 1.4021 - accuracy: 0.4970 - val_loss: 1.5263 - val_accuracy: 0.4573\n",
      "Epoch 33/100\n",
      "196/196 [==============================] - 3s 13ms/step - loss: 1.3870 - accuracy: 0.5008 - val_loss: 1.5805 - val_accuracy: 0.4504\n",
      "Epoch 34/100\n",
      "196/196 [==============================] - 3s 13ms/step - loss: 1.3908 - accuracy: 0.5076 - val_loss: 1.5490 - val_accuracy: 0.4584\n",
      "Epoch 35/100\n",
      "196/196 [==============================] - 3s 14ms/step - loss: 1.3901 - accuracy: 0.5016 - val_loss: 1.5184 - val_accuracy: 0.4743\n",
      "Epoch 36/100\n",
      "196/196 [==============================] - 3s 14ms/step - loss: 1.3770 - accuracy: 0.5098 - val_loss: 1.4760 - val_accuracy: 0.4775\n",
      "Epoch 37/100\n",
      "196/196 [==============================] - 3s 14ms/step - loss: 1.3535 - accuracy: 0.5192 - val_loss: 1.5794 - val_accuracy: 0.4456\n",
      "Epoch 38/100\n",
      "196/196 [==============================] - 3s 13ms/step - loss: 1.3536 - accuracy: 0.5167 - val_loss: 1.6162 - val_accuracy: 0.4369\n",
      "Epoch 39/100\n",
      "196/196 [==============================] - 3s 14ms/step - loss: 1.3580 - accuracy: 0.5130 - val_loss: 1.5520 - val_accuracy: 0.4490\n",
      "Epoch 40/100\n",
      "196/196 [==============================] - 3s 14ms/step - loss: 1.3711 - accuracy: 0.5093 - val_loss: 1.5141 - val_accuracy: 0.4715\n",
      "Epoch 41/100\n",
      "196/196 [==============================] - 3s 14ms/step - loss: 1.3283 - accuracy: 0.5232 - val_loss: 1.4491 - val_accuracy: 0.4897\n",
      "Epoch 42/100\n",
      "196/196 [==============================] - 3s 14ms/step - loss: 1.3197 - accuracy: 0.5289 - val_loss: 1.4606 - val_accuracy: 0.4889\n",
      "Epoch 43/100\n",
      "196/196 [==============================] - 3s 14ms/step - loss: 1.3092 - accuracy: 0.5345 - val_loss: 1.5512 - val_accuracy: 0.4582\n",
      "Epoch 44/100\n",
      "196/196 [==============================] - 3s 13ms/step - loss: 1.3168 - accuracy: 0.5300 - val_loss: 1.4606 - val_accuracy: 0.4814\n",
      "Epoch 45/100\n",
      "196/196 [==============================] - 3s 14ms/step - loss: 1.3030 - accuracy: 0.5322 - val_loss: 1.4698 - val_accuracy: 0.4876\n",
      "Epoch 46/100\n",
      "196/196 [==============================] - 3s 13ms/step - loss: 1.2772 - accuracy: 0.5427 - val_loss: 1.4595 - val_accuracy: 0.4999\n",
      "Epoch 47/100\n",
      "196/196 [==============================] - 3s 14ms/step - loss: 1.2521 - accuracy: 0.5499 - val_loss: 1.5059 - val_accuracy: 0.4705\n",
      "Epoch 48/100\n",
      "196/196 [==============================] - 3s 14ms/step - loss: 1.2632 - accuracy: 0.5461 - val_loss: 1.4292 - val_accuracy: 0.5054\n",
      "Epoch 49/100\n",
      "196/196 [==============================] - 3s 14ms/step - loss: 1.2419 - accuracy: 0.5553 - val_loss: 1.6309 - val_accuracy: 0.4439\n",
      "Epoch 50/100\n",
      "196/196 [==============================] - 3s 14ms/step - loss: 1.2507 - accuracy: 0.5499 - val_loss: 1.5247 - val_accuracy: 0.4739\n",
      "Epoch 51/100\n",
      "196/196 [==============================] - 3s 13ms/step - loss: 1.2486 - accuracy: 0.5558 - val_loss: 1.6276 - val_accuracy: 0.4389\n",
      "Epoch 52/100\n",
      "196/196 [==============================] - 3s 14ms/step - loss: 1.2399 - accuracy: 0.5561 - val_loss: 1.5290 - val_accuracy: 0.4726\n",
      "Epoch 53/100\n",
      "196/196 [==============================] - 3s 14ms/step - loss: 1.2035 - accuracy: 0.5706 - val_loss: 1.5005 - val_accuracy: 0.4840\n",
      "Epoch 54/100\n",
      "196/196 [==============================] - 3s 14ms/step - loss: 1.2100 - accuracy: 0.5662 - val_loss: 1.5527 - val_accuracy: 0.4751\n",
      "Epoch 55/100\n",
      "196/196 [==============================] - 3s 14ms/step - loss: 1.1974 - accuracy: 0.5709 - val_loss: 1.5040 - val_accuracy: 0.4851\n",
      "Epoch 56/100\n",
      "196/196 [==============================] - 3s 14ms/step - loss: 1.1906 - accuracy: 0.5768 - val_loss: 1.5312 - val_accuracy: 0.4879\n",
      "Epoch 57/100\n",
      "196/196 [==============================] - 3s 13ms/step - loss: 1.1673 - accuracy: 0.5840 - val_loss: 1.5631 - val_accuracy: 0.4743\n",
      "Epoch 58/100\n",
      "196/196 [==============================] - 3s 13ms/step - loss: 1.1777 - accuracy: 0.5793 - val_loss: 1.4415 - val_accuracy: 0.5043\n",
      "Epoch 59/100\n",
      "196/196 [==============================] - 3s 13ms/step - loss: 1.1496 - accuracy: 0.5859 - val_loss: 1.4936 - val_accuracy: 0.4926\n",
      "Epoch 60/100\n",
      "196/196 [==============================] - 3s 14ms/step - loss: 1.1421 - accuracy: 0.5925 - val_loss: 1.4485 - val_accuracy: 0.5075\n",
      "Epoch 61/100\n",
      "196/196 [==============================] - 3s 14ms/step - loss: 1.1410 - accuracy: 0.5953 - val_loss: 1.4621 - val_accuracy: 0.5034\n",
      "Epoch 62/100\n",
      "196/196 [==============================] - 3s 13ms/step - loss: 1.1206 - accuracy: 0.5986 - val_loss: 1.5018 - val_accuracy: 0.4989\n",
      "Epoch 63/100\n",
      "196/196 [==============================] - 3s 13ms/step - loss: 1.1037 - accuracy: 0.6047 - val_loss: 1.4901 - val_accuracy: 0.4965\n",
      "Epoch 64/100\n",
      "196/196 [==============================] - 3s 13ms/step - loss: 1.1006 - accuracy: 0.6054 - val_loss: 1.5071 - val_accuracy: 0.4971\n",
      "Epoch 65/100\n",
      "196/196 [==============================] - 3s 14ms/step - loss: 1.1034 - accuracy: 0.6092 - val_loss: 1.4788 - val_accuracy: 0.5032\n",
      "Epoch 66/100\n",
      "196/196 [==============================] - 3s 14ms/step - loss: 1.0949 - accuracy: 0.6088 - val_loss: 1.4709 - val_accuracy: 0.5000\n",
      "Epoch 67/100\n",
      "196/196 [==============================] - 3s 14ms/step - loss: 1.0622 - accuracy: 0.6218 - val_loss: 1.4935 - val_accuracy: 0.4919\n",
      "Epoch 68/100\n",
      "196/196 [==============================] - 3s 13ms/step - loss: 1.0902 - accuracy: 0.6090 - val_loss: 1.5017 - val_accuracy: 0.5012\n",
      "Epoch 69/100\n",
      "196/196 [==============================] - 3s 14ms/step - loss: 1.0598 - accuracy: 0.6212 - val_loss: 1.5095 - val_accuracy: 0.5027\n",
      "Epoch 70/100\n",
      "196/196 [==============================] - 3s 14ms/step - loss: 1.0711 - accuracy: 0.6140 - val_loss: 1.5121 - val_accuracy: 0.5049\n",
      "Epoch 71/100\n",
      "196/196 [==============================] - 3s 14ms/step - loss: 1.0488 - accuracy: 0.6266 - val_loss: 1.5046 - val_accuracy: 0.4964\n",
      "Epoch 72/100\n",
      "196/196 [==============================] - 3s 14ms/step - loss: 1.0182 - accuracy: 0.6346 - val_loss: 1.5027 - val_accuracy: 0.5081\n",
      "Epoch 73/100\n",
      "196/196 [==============================] - 3s 14ms/step - loss: 1.0061 - accuracy: 0.6370 - val_loss: 1.5671 - val_accuracy: 0.5000\n",
      "Epoch 74/100\n",
      "196/196 [==============================] - 3s 14ms/step - loss: 1.0550 - accuracy: 0.6247 - val_loss: 1.5580 - val_accuracy: 0.5039\n",
      "Epoch 75/100\n",
      "196/196 [==============================] - 3s 14ms/step - loss: 1.0070 - accuracy: 0.6406 - val_loss: 1.5320 - val_accuracy: 0.4999\n",
      "Epoch 76/100\n",
      "196/196 [==============================] - 3s 14ms/step - loss: 1.0218 - accuracy: 0.6334 - val_loss: 1.5487 - val_accuracy: 0.5046\n",
      "Epoch 77/100\n",
      "196/196 [==============================] - 3s 15ms/step - loss: 0.9736 - accuracy: 0.6496 - val_loss: 1.5427 - val_accuracy: 0.5017\n",
      "Epoch 78/100\n",
      "196/196 [==============================] - 3s 15ms/step - loss: 0.9769 - accuracy: 0.6458 - val_loss: 1.5559 - val_accuracy: 0.5013\n",
      "Epoch 79/100\n",
      "196/196 [==============================] - 3s 15ms/step - loss: 0.9892 - accuracy: 0.6445 - val_loss: 1.5280 - val_accuracy: 0.5067\n",
      "Epoch 80/100\n",
      "196/196 [==============================] - 3s 15ms/step - loss: 0.9788 - accuracy: 0.6519 - val_loss: 1.5555 - val_accuracy: 0.5097\n",
      "Epoch 81/100\n",
      "196/196 [==============================] - 3s 14ms/step - loss: 0.9482 - accuracy: 0.6572 - val_loss: 1.6112 - val_accuracy: 0.5009\n",
      "Epoch 82/100\n",
      "196/196 [==============================] - 3s 15ms/step - loss: 0.9624 - accuracy: 0.6539 - val_loss: 1.5483 - val_accuracy: 0.5182\n",
      "Epoch 83/100\n",
      "196/196 [==============================] - 3s 14ms/step - loss: 0.9363 - accuracy: 0.6638 - val_loss: 1.5483 - val_accuracy: 0.5236\n",
      "Epoch 84/100\n",
      "196/196 [==============================] - 3s 14ms/step - loss: 0.9126 - accuracy: 0.6699 - val_loss: 1.6313 - val_accuracy: 0.5061\n",
      "Epoch 85/100\n",
      "196/196 [==============================] - 3s 15ms/step - loss: 0.9284 - accuracy: 0.6683 - val_loss: 1.6965 - val_accuracy: 0.4738\n",
      "Epoch 86/100\n",
      "196/196 [==============================] - 3s 15ms/step - loss: 0.9333 - accuracy: 0.6645 - val_loss: 1.6426 - val_accuracy: 0.4968\n",
      "Epoch 87/100\n",
      "196/196 [==============================] - 3s 16ms/step - loss: 0.8984 - accuracy: 0.6757 - val_loss: 1.6456 - val_accuracy: 0.4930\n",
      "Epoch 88/100\n",
      "196/196 [==============================] - 4s 19ms/step - loss: 0.9143 - accuracy: 0.6732 - val_loss: 1.6036 - val_accuracy: 0.5076\n",
      "Epoch 89/100\n",
      "196/196 [==============================] - 3s 16ms/step - loss: 0.8868 - accuracy: 0.6843 - val_loss: 1.6565 - val_accuracy: 0.4883\n",
      "Epoch 90/100\n",
      "196/196 [==============================] - 3s 16ms/step - loss: 0.8851 - accuracy: 0.6815 - val_loss: 1.6525 - val_accuracy: 0.5098\n",
      "Epoch 91/100\n",
      "196/196 [==============================] - 3s 16ms/step - loss: 0.8789 - accuracy: 0.6838 - val_loss: 1.6479 - val_accuracy: 0.4940\n",
      "Epoch 92/100\n",
      "196/196 [==============================] - 3s 14ms/step - loss: 0.8609 - accuracy: 0.6903 - val_loss: 1.6656 - val_accuracy: 0.5013\n",
      "Epoch 93/100\n",
      "196/196 [==============================] - 3s 14ms/step - loss: 0.8534 - accuracy: 0.6956 - val_loss: 1.7262 - val_accuracy: 0.4972\n",
      "Epoch 94/100\n",
      "196/196 [==============================] - 3s 15ms/step - loss: 0.8552 - accuracy: 0.6931 - val_loss: 1.7086 - val_accuracy: 0.5008\n",
      "Epoch 95/100\n",
      "196/196 [==============================] - 3s 14ms/step - loss: 0.8596 - accuracy: 0.6926 - val_loss: 1.7100 - val_accuracy: 0.5136\n",
      "Epoch 96/100\n",
      "196/196 [==============================] - 3s 14ms/step - loss: 0.8101 - accuracy: 0.7094 - val_loss: 1.6929 - val_accuracy: 0.5042\n",
      "Epoch 97/100\n",
      "196/196 [==============================] - 3s 13ms/step - loss: 0.8224 - accuracy: 0.7051 - val_loss: 1.8001 - val_accuracy: 0.4918\n",
      "Epoch 98/100\n",
      "196/196 [==============================] - 3s 14ms/step - loss: 0.8309 - accuracy: 0.7020 - val_loss: 1.7256 - val_accuracy: 0.5053\n",
      "Epoch 99/100\n",
      "196/196 [==============================] - 3s 15ms/step - loss: 0.8169 - accuracy: 0.7095 - val_loss: 1.7949 - val_accuracy: 0.4992\n",
      "Epoch 100/100\n",
      "196/196 [==============================] - 3s 15ms/step - loss: 0.8066 - accuracy: 0.7137 - val_loss: 1.7374 - val_accuracy: 0.4976\n"
     ]
    },
    {
     "data": {
      "text/plain": [
       "<tensorflow.python.keras.callbacks.History at 0x271cd3a5388>"
      ]
     },
     "execution_count": 48,
     "metadata": {},
     "output_type": "execute_result"
    }
   ],
   "source": [
    "model.fit(x_train, y_train, \n",
    "          epochs=EPOCHS, \n",
    "          batch_size=BATCH_SIZE, \n",
    "          validation_data=(x_test, y_test), \n",
    "          shuffle=True)"
   ]
  },
  {
   "cell_type": "code",
   "execution_count": 50,
   "metadata": {},
   "outputs": [
    {
     "data": {
      "image/png": "[encoded data removed]",
      "text/plain": [
       "<Figure size 432x288 with 1 Axes>"
      ]
     },
     "metadata": {
      "needs_background": "light"
     },
     "output_type": "display_data"
    },
    {
     "data": {
      "image/png": "[encoded data removed]",
      "text/plain": [
       "<Figure size 432x288 with 1 Axes>"
      ]
     },
     "metadata": {
      "needs_background": "light"
     },
     "output_type": "display_data"
    }
   ],
   "source": [
    "import matplotlib.pyplot as plt\n",
    "\n",
    "\n",
    "train_loss = model.history.history[\"loss\"]\n",
    "valid_loss = model.history.history[\"val_loss\"]\n",
    "\n",
    "train_acc = model.history.history[\"accuracy\"]\n",
    "valid_acc = model.history.history[\"val_accuracy\"]\n",
    "\n",
    "plt.plot(range(len(train_loss)), train_loss, label=\"train loss\")\n",
    "plt.plot(range(len(valid_loss)), valid_loss, label=\"valid loss\")\n",
    "plt.legend()\n",
    "plt.title(\"Loss\")\n",
    "plt.show()\n",
    "\n",
    "plt.plot(range(len(train_acc)), train_acc, label=\"train accuracy\")\n",
    "plt.plot(range(len(valid_acc)), valid_acc, label=\"valid accuracy\")\n",
    "plt.legend()\n",
    "plt.title(\"Accuracy\")\n",
    "plt.show()"
   ]
  },
  {
   "cell_type": "code",
   "execution_count": null,
   "metadata": {},
   "outputs": [],
   "source": []
  }
 ],
 "metadata": {
  "kernelspec": {
   "display_name": "Python 3",
   "language": "python",
   "name": "python3"
  },
  "language_info": {
   "codemirror_mode": {
    "name": "ipython",
    "version": 3
   },
   "file_extension": ".py",
   "mimetype": "text/x-python",
   "name": "python",
   "nbconvert_exporter": "python",
   "pygments_lexer": "ipython3",
   "version": "3.7.4"
  }
 },
 "nbformat": 4,
 "nbformat_minor": 2
}
