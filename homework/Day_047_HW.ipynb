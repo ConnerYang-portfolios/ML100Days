{
 "cells": [
  {
   "cell_type": "markdown",
   "metadata": {},
   "source": [
    "## [作業重點]\n",
    "了解如何使用 Sklearn 中的 hyper-parameter search 找出最佳的超參數"
   ]
  },
  {
   "cell_type": "markdown",
   "metadata": {},
   "source": [
    "### 作業\n",
    "請使用不同的資料集，並使用 hyper-parameter search 的方式，看能不能找出最佳的超參數組合"
   ]
  },
  {
   "cell_type": "code",
   "execution_count": 1,
   "metadata": {},
   "outputs": [],
   "source": [
    "from sklearn import datasets, metrics\n",
    "from sklearn.ensemble import RandomForestClassifier\n",
    "from sklearn.model_selection import train_test_split, KFold, GridSearchCV\n",
    "\n",
    "cancer = datasets.load_breast_cancer()\n",
    "x_train, x_test, y_train, y_test = train_test_split(cancer.data,cancer.target,test_size = 0.25, random_state = 1)"
   ]
  },
  {
   "cell_type": "markdown",
   "metadata": {},
   "source": [
    "# Base Random Forest Model for comparison"
   ]
  },
  {
   "cell_type": "code",
   "execution_count": 19,
   "metadata": {},
   "outputs": [
    {
     "name": "stdout",
     "output_type": "stream",
     "text": [
      "Base Random Forest Model accuracy score: 0.951048951048951\n"
     ]
    },
    {
     "name": "stderr",
     "output_type": "stream",
     "text": [
      "D:\\Anaconda3\\lib\\site-packages\\sklearn\\ensemble\\forest.py:245: FutureWarning: The default value of n_estimators will change from 10 in version 0.20 to 100 in 0.22.\n",
      "  \"10 in version 0.20 to 100 in 0.22.\", FutureWarning)\n"
     ]
    }
   ],
   "source": [
    "rf = RandomForestClassifier(random_state = 5)\n",
    "rf.fit(x_train,y_train)\n",
    "y_pred = rf.predict(x_test)\n",
    "acc = metrics.accuracy_score(y_test,y_pred)\n",
    "print(f'Base Random Forest Model accuracy score: {acc}')\n"
   ]
  },
  {
   "cell_type": "markdown",
   "metadata": {},
   "source": [
    "# Hyperparameter Tuning process"
   ]
  },
  {
   "cell_type": "markdown",
   "metadata": {},
   "source": [
    "Set up parameter training sets"
   ]
  },
  {
   "cell_type": "code",
   "execution_count": 22,
   "metadata": {},
   "outputs": [],
   "source": [
    "n_estimators = [150,200,300,400,500]\n",
    "max_depth = [3,5,10,20]\n",
    "min_samples_leaf = [2,4,8]\n",
    "min_samples_split = [5,10]\n",
    "param_grid = dict(n_estimators=n_estimators, max_depth=max_depth, min_samples_leaf = min_samples_leaf, min_samples_split = min_samples_split )\n"
   ]
  },
  {
   "cell_type": "markdown",
   "metadata": {},
   "source": [
    "Use GridSearchCV for finding out best parameter. Here we use 5-fold cross validation."
   ]
  },
  {
   "cell_type": "code",
   "execution_count": 23,
   "metadata": {},
   "outputs": [
    {
     "name": "stdout",
     "output_type": "stream",
     "text": [
      "Fitting 5 folds for each of 120 candidates, totalling 600 fits\n"
     ]
    },
    {
     "name": "stderr",
     "output_type": "stream",
     "text": [
      "[Parallel(n_jobs=-1)]: Using backend LokyBackend with 12 concurrent workers.\n",
      "[Parallel(n_jobs=-1)]: Done  26 tasks      | elapsed:    0.9s\n",
      "[Parallel(n_jobs=-1)]: Done 176 tasks      | elapsed:    6.6s\n",
      "[Parallel(n_jobs=-1)]: Done 426 tasks      | elapsed:   16.3s\n",
      "[Parallel(n_jobs=-1)]: Done 600 out of 600 | elapsed:   24.1s finished\n"
     ]
    }
   ],
   "source": [
    "grid_search = GridSearchCV(rf, param_grid, scoring=\"accuracy\", n_jobs=-1, verbose=1,cv = 5)\n",
    "grid_result = grid_search.fit(x_train, y_train)"
   ]
  },
  {
   "cell_type": "code",
   "execution_count": 24,
   "metadata": {},
   "outputs": [
    {
     "name": "stdout",
     "output_type": "stream",
     "text": [
      " Best accuracy score : 0.9647887323943662 by using {'max_depth': 5, 'min_samples_leaf': 2, 'min_samples_split': 5, 'n_estimators': 400}\n"
     ]
    }
   ],
   "source": [
    "print(f' Best accuracy score : {grid_result.best_score_} by using {grid_result.best_params_}')"
   ]
  },
  {
   "cell_type": "markdown",
   "metadata": {},
   "source": [
    "# Refit the Random Forest Model by using the best parameter we get"
   ]
  },
  {
   "cell_type": "code",
   "execution_count": 25,
   "metadata": {},
   "outputs": [],
   "source": [
    "rf_best_parameter = RandomForestClassifier(n_estimators = grid_result.best_params_['n_estimators'],\n",
    "                                           max_depth = grid_result.best_params_['max_depth'],\n",
    "                                           min_samples_leaf = grid_result.best_params_['min_samples_leaf'],\n",
    "                                           min_samples_split = grid_result.best_params_['min_samples_split'],random_state = 5)"
   ]
  },
  {
   "cell_type": "code",
   "execution_count": 26,
   "metadata": {},
   "outputs": [
    {
     "name": "stdout",
     "output_type": "stream",
     "text": [
      "Best Random Forest Model accuracy score: 0.951048951048951\n"
     ]
    }
   ],
   "source": [
    "rf_best_parameter.fit(x_train,y_train)\n",
    "y_pred_best = rf_best_parameter.predict(x_test)\n",
    "best_acc = metrics.accuracy_score(y_test,y_pred_best)\n",
    "print(f'Best Random Forest Model accuracy score: {best_acc}')\n"
   ]
  },
  {
   "cell_type": "code",
   "execution_count": null,
   "metadata": {},
   "outputs": [],
   "source": []
  }
 ],
 "metadata": {
  "kernelspec": {
   "display_name": "Python 3",
   "language": "python",
   "name": "python3"
  },
  "language_info": {
   "codemirror_mode": {
    "name": "ipython",
    "version": 3
   },
   "file_extension": ".py",
   "mimetype": "text/x-python",
   "name": "python",
   "nbconvert_exporter": "python",
   "pygments_lexer": "ipython3",
   "version": "3.7.4"
  }
 },
 "nbformat": 4,
 "nbformat_minor": 2
}
