{
 "cells": [
  {
   "cell_type": "markdown",
   "metadata": {},
   "source": [
    "## [作業目標]\n",
    "了解機器學習適合應用的領域與範疇。"
   ]
  },
  {
   "cell_type": "markdown",
   "metadata": {},
   "source": [
    "## [作業重點]\n",
    "透過瞭解機器學習的運作方式，找出非常適用機器學習應用的領域及其原因"
   ]
  },
  {
   "cell_type": "markdown",
   "metadata": {},
   "source": [
    "## 作業\n",
    "請找出一個你認為機器學習可以發光發熱的領域並闡述原因? "
   ]
  },
  {
   "cell_type": "markdown",
   "metadata": {},
   "source": [
    "#   [答案]\n",
    "\n",
    "我認為機器學習可以在股票市場發光發熱，若可以藉由以前歷史的資訊發展出一個機器學習的模型，藉由機器模型判斷過去的歷史變化以及今天新加入的經濟情勢的因素，讓電腦判斷出今天或是未來可能股票的發展方向，藉由模型可以提高投資準確率，並且可以以短中長期投資做不一樣的判斷，讓投資人不再是random guessing，可以藉由模型判斷做出更正確的投資選擇。\n",
    "股票的資料有很多，而且都是公開資料，非常方便容易取得，很適合做監督式學習的模型，進而提高準確率。"
   ]
  },
  {
   "cell_type": "code",
   "execution_count": null,
   "metadata": {},
   "outputs": [],
   "source": []
  }
 ],
 "metadata": {
  "kernelspec": {
   "display_name": "Python 3",
   "language": "python",
   "name": "python3"
  },
  "language_info": {
   "codemirror_mode": {
    "name": "ipython",
    "version": 3
   },
   "file_extension": ".py",
   "mimetype": "text/x-python",
   "name": "python",
   "nbconvert_exporter": "python",
   "pygments_lexer": "ipython3",
   "version": "3.7.4"
  }
 },
 "nbformat": 4,
 "nbformat_minor": 2
}
