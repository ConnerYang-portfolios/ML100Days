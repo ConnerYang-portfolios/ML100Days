{
 "cells": [
  {
   "cell_type": "markdown",
   "metadata": {},
   "source": [
    "# 作業目標:\n",
    "    了解 Padding 的作法\n",
    "    \n",
    "    了解 Pooling 的作法"
   ]
  },
  {
   "cell_type": "markdown",
   "metadata": {},
   "source": [
    "# 作業重點:\n",
    "    (1) 調整Padding 的設定, 看 Pad 後的結果\n",
    "    \n",
    "    (2) 調整Pooling 的設定, 看 Poolin 後的結果"
   ]
  },
  {
   "cell_type": "code",
   "execution_count": 1,
   "metadata": {},
   "outputs": [],
   "source": [
    "import numpy as np\n",
    "import h5py\n",
    "import matplotlib.pyplot as plt\n",
    "\n",
    "# 繪圖結果直接顯示在Jupyter cell 之內\n",
    "%matplotlib inline  \n",
    "plt.rcParams['figure.figsize'] = (5.0, 4.0) #  設定繪圖板的大小\n",
    "plt.rcParams['image.interpolation'] = 'nearest'\n",
    "plt.rcParams['image.cmap'] = 'gray'\n",
    "\n",
    "# autoreload。可以讓我們不退出IPython就動態修改代碼，在執行代碼前IPython會幫我們自動重載改動的模塊\n",
    "%load_ext autoreload\n",
    "%autoreload 2\n",
    "np.random.seed(1)"
   ]
  },
  {
   "cell_type": "code",
   "execution_count": 2,
   "metadata": {},
   "outputs": [],
   "source": [
    "# GRADED FUNCTION: zero_pad\n",
    "def zero_pad(X, pad):\n",
    "    \"\"\"\n",
    "    對image X 做 zero-padding. \n",
    "    參數定義如下:\n",
    "    X -- python numpy array, 呈現維度 (m, n_H, n_W, n_C), 代表一批 m 個圖像\n",
    "         n_H: 圖高, n_W: 圖寬, n_C: color channels 數\n",
    "    pad -- 整數, 加幾圈的 zero padding.\n",
    "    Returns:\n",
    "    X_pad -- image of shape (m, n_H + 2*pad, n_W + 2*pad, n_C) 做完zero-padding 的結果\n",
    "    \"\"\"\n",
    "    \n",
    "    X_pad = np.pad(X, ((0, 0), (pad, pad), (pad, pad), (0, 0)), 'constant', constant_values=(0, 0))\n",
    "  \n",
    "    return X_pad"
   ]
  },
  {
   "cell_type": "code",
   "execution_count": 22,
   "metadata": {},
   "outputs": [
    {
     "name": "stdout",
     "output_type": "stream",
     "text": [
      "x.shape = (5, 5, 5, 3)\n",
      "x_pad.shape = (5, 7, 7, 3)\n",
      "x[1,1] = [[ 0.17368027 -0.87724686 -0.0441608 ]\n",
      " [-1.54007907  0.42059339  0.8925884 ]\n",
      " [-0.73203188 -2.00394177 -0.12978171]\n",
      " [-0.19850032 -0.08060699  1.30357545]\n",
      " [ 0.13859548  2.08412285  0.38074345]]\n",
      "x_pad[1,1] = [[ 0.          0.          0.        ]\n",
      " [-1.07233211 -1.50707559  1.58466204]\n",
      " [ 1.13548397  0.52337294 -0.4769314 ]\n",
      " [ 1.50356122 -1.36716773  0.06739292]\n",
      " [ 0.48517755  1.28712693 -1.5264277 ]\n",
      " [-3.06414136  0.11537031  0.31742716]\n",
      " [ 0.          0.          0.        ]]\n"
     ]
    },
    {
     "data": {
      "text/plain": [
       "<matplotlib.image.AxesImage at 0x1c110e81208>"
      ]
     },
     "execution_count": 22,
     "metadata": {},
     "output_type": "execute_result"
    },
    {
     "data": {
      "image/png": "[encoded data removed]",
      "text/plain": [
       "<Figure size 432x288 with 2 Axes>"
      ]
     },
     "metadata": {
      "needs_background": "light"
     },
     "output_type": "display_data"
    }
   ],
   "source": [
    "'''\n",
    "作業修改\n",
    "np.random.seed(1)\n",
    "\n",
    "x = \n",
    "x_pad = \n",
    "\n",
    "'''\n",
    "\n",
    "x = np.random.randn(5,5,5,3)\n",
    "x_pad = zero_pad(x,1)\n",
    "print (\"x.shape =\", x.shape)\n",
    "print (\"x_pad.shape =\", x_pad.shape)\n",
    "print (\"x[1,1] =\", x[1,1])\n",
    "print (\"x_pad[1,1] =\", x_pad[1,1])\n",
    "fig, axarr = plt.subplots(1, 2)\n",
    "axarr[0].set_title('x')\n",
    "axarr[0].imshow(x[0,:,:,0])\n",
    "axarr[1].set_title('x_pad')\n",
    "axarr[1].imshow(x_pad[0,:,:,0])"
   ]
  },
  {
   "cell_type": "code",
   "execution_count": 23,
   "metadata": {},
   "outputs": [],
   "source": [
    "# GRADED FUNCTION: pool_forward\n",
    "def pool_forward(A_prev, hparameters, mode = \"max\"):\n",
    "    \"\"\"\n",
    "    設計一個前行網路的池化層\n",
    "    參數定義如下:\n",
    "    A_prev -- 輸入的numpy 陣列, 維度 (m, n_H_prev, n_W_prev, n_C_prev)\n",
    "    hparameter 超參數 --  \"f\" and \"stride\" 所形成的python 字典\n",
    "    mode -- 池化的模式: \"max\" or \"average\"\n",
    "    \n",
    "    返回:\n",
    "        A -- 輸出的池化層, 維度為 (m, n_H, n_W, n_C) 的 numpy 陣列\n",
    "        cache -- 可以應用在 backward pass pooling layer 資料, 包含 input and hparameter\n",
    "    \"\"\"\n",
    "\n",
    "    # 檢索尺寸 from the input shape\n",
    "    (m, n_H_prev, n_W_prev, n_C_prev) = A_prev.shape\n",
    " \n",
    "    # 檢索超參數 from \"hparameters\"\n",
    "    f = hparameters[\"f\"]\n",
    "    stride = hparameters[\"stride\"]\n",
    "\n",
    "    # 定義輸出的dimensions\n",
    "    n_H = int(1 + (n_H_prev - f) / stride)\n",
    "    n_W = int(1 + (n_W_prev - f) / stride)\n",
    "    n_C = n_C_prev\n",
    "\n",
    "    # 初始化輸出的 matrix A\n",
    "    A = np.zeros((m, n_H, n_W, n_C))\n",
    "\n",
    "    ### 程式起始位置  ###\n",
    "    for i in range(m): # 訓練樣本的for 迴圈\n",
    "        for h in range(n_H): # 輸出樣本的for 迴圈, 針對vertical axis\n",
    "            for w in range(n_W): #  輸出樣本的for 迴圈, 針對 horizontal axis\n",
    "                for c in range (n_C): #  輸出樣本的for 迴圈, 針對channels\n",
    "\n",
    "                     # 找出特徵圖的寬度跟高度四個點\n",
    "                    vert_start = h * stride\n",
    "                    vert_end = h * stride+ f\n",
    "                    horiz_start = w * stride\n",
    "                    horiz_end = w * stride + f\n",
    "\n",
    "                    # 定義第i個訓練示例\n",
    "                    a_prev_slice = A_prev[i, vert_start:vert_end, horiz_start:horiz_end,c]\n",
    "\n",
    "                    # 計算輸入data 的池化結果. 使用 if statment 去做分類\n",
    "                    if mode == \"max\":\n",
    "                        A[i, h, w, c] = np.max(a_prev_slice)\n",
    "                    elif mode == \"average\":\n",
    "                        A[i, h, w, c] = np.mean(a_prev_slice)\n",
    "\n",
    "                        ### 程式結束  ###\n",
    "    \n",
    "    # 儲存輸入的特徵圖跟所設定的超參數, 可以用在 pool_backward()\n",
    "    cache = (A_prev, hparameters)\n",
    "    \n",
    "    # 確認輸出的資料維度\n",
    "    assert(A.shape == (m, n_H, n_W, n_C))\n",
    "    return A, cache"
   ]
  },
  {
   "cell_type": "code",
   "execution_count": 26,
   "metadata": {},
   "outputs": [
    {
     "name": "stdout",
     "output_type": "stream",
     "text": [
      "mode = max\n",
      "A = [[[[1.54160517 0.98132079 1.61898166]\n",
      "   [1.54160517 0.9370822  1.29974807]]\n",
      "\n",
      "  [[1.18962227 1.47071387 1.02692144]\n",
      "   [1.24946974 0.73620521 2.03460756]]]\n",
      "\n",
      "\n",
      " [[[0.68689007 1.83193608 1.87657343]\n",
      "   [0.7788224  0.42823287 1.58617094]]\n",
      "\n",
      "  [[0.94900478 2.04671397 0.89459771]\n",
      "   [2.07479317 0.95227563 1.58617094]]]\n",
      "\n",
      "\n",
      " [[[2.29865394 1.23690789 1.09368665]\n",
      "   [1.70362399 2.07771223 1.94326226]]\n",
      "\n",
      "  [[0.64917293 1.57616672 1.24108209]\n",
      "   [1.66353631 2.07771223 3.46522715]]]\n",
      "\n",
      "\n",
      " [[[0.95295943 2.53943203 1.52230777]\n",
      "   [1.45542146 1.27745203 1.52230777]]\n",
      "\n",
      "  [[0.83153303 2.53943203 1.55931486]\n",
      "   [2.01908612 1.27745203 2.70900195]]]\n",
      "\n",
      "\n",
      " [[[3.33420352 2.13248673 3.17339052]\n",
      "   [1.84452321 2.13248673 2.72133361]]\n",
      "\n",
      "  [[0.39841642 2.13248673 2.72133361]\n",
      "   [0.96374453 2.13248673 2.72133361]]]]\n",
      "\n",
      "mode = average\n",
      "A = [[[[ 0.16072361 -0.44787877  0.07948213]\n",
      "   [ 0.32719649 -0.35558366  0.01531182]]\n",
      "\n",
      "  [[-0.21368393 -0.41296852 -0.44517603]\n",
      "   [-0.04198217 -0.57267151  0.01365648]]]\n",
      "\n",
      "\n",
      " [[[-0.16442209 -0.0843779  -0.05305349]\n",
      "   [-0.40215847 -0.7819418  -0.16559809]]\n",
      "\n",
      "  [[-0.1974913   0.0496244  -0.68187885]\n",
      "   [ 0.62502728 -0.39871288 -0.29492951]]]\n",
      "\n",
      "\n",
      " [[[-0.35423896 -0.05606889  0.2118693 ]\n",
      "   [ 0.1446331   0.30207672  0.19638573]]\n",
      "\n",
      "  [[-0.40551864  0.25519637  0.33373424]\n",
      "   [ 0.09330694  0.55076317  0.64450685]]]\n",
      "\n",
      "\n",
      " [[[-0.15458938  0.55478201 -0.12372599]\n",
      "   [-0.08954058 -0.38991808  0.20207374]]\n",
      "\n",
      "  [[-0.6336357   1.01782337  0.11873737]\n",
      "   [-0.56281577  0.15023536  0.11263602]]]\n",
      "\n",
      "\n",
      " [[[ 0.48103968  0.134295    0.82659179]\n",
      "   [ 0.20375233  0.45142435  0.47456422]]\n",
      "\n",
      "  [[-0.31045333  0.25423638 -0.23755952]\n",
      "   [-0.27600357  0.40281197  0.12202513]]]]\n"
     ]
    }
   ],
   "source": [
    "'''\n",
    "作業修改\n",
    "np.random.seed(1)\n",
    "A_prev = \n",
    "hparameters = \n",
    "'''\n",
    "np.random.seed(100)\n",
    "A_prev = np.random.randn(5,5,5,3)\n",
    "hparameters = {'f':3,'stride':2}\n",
    "\n",
    "A, cache = pool_forward(A_prev, hparameters)\n",
    "print(\"mode = max\")\n",
    "print(\"A =\", A)\n",
    "print()\n",
    "A, cache = pool_forward(A_prev, hparameters, mode = \"average\")\n",
    "print(\"mode = average\")\n",
    "print(\"A =\", A)"
   ]
  },
  {
   "cell_type": "code",
   "execution_count": null,
   "metadata": {},
   "outputs": [],
   "source": []
  }
 ],
 "metadata": {
  "kernelspec": {
   "display_name": "Python 3",
   "language": "python",
   "name": "python3"
  },
  "language_info": {
   "codemirror_mode": {
    "name": "ipython",
    "version": 3
   },
   "file_extension": ".py",
   "mimetype": "text/x-python",
   "name": "python",
   "nbconvert_exporter": "python",
   "pygments_lexer": "ipython3",
   "version": "3.7.4"
  }
 },
 "nbformat": 4,
 "nbformat_minor": 2
}
