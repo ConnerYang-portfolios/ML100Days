{
 "cells": [
  {
   "cell_type": "markdown",
   "metadata": {},
   "source": [
    "## [作業重點]\n",
    "目前你應該已經要很清楚資料集中，資料的型態是什麼樣子囉！包含特徵 (features) 與標籤 (labels)。因此要記得未來不管什麼專案，必須要把資料清理成相同的格式，才能送進模型訓練。\n",
    "今天的作業開始踏入決策樹這個非常重要的模型，請務必確保你理解模型中每個超參數的意思，並試著調整看看，對最終預測結果的影響為何"
   ]
  },
  {
   "cell_type": "markdown",
   "metadata": {},
   "source": [
    "## 作業\n",
    "\n",
    "1. 試著調整 DecisionTreeClassifier(...) 中的參數，並觀察是否會改變結果？\n",
    "2. 改用其他資料集 (boston, wine)，並與回歸模型的結果進行比較"
   ]
  },
  {
   "cell_type": "code",
   "execution_count": 1,
   "metadata": {},
   "outputs": [],
   "source": [
    "from sklearn import datasets, metrics\n",
    "from sklearn.tree import DecisionTreeClassifier, DecisionTreeRegressor\n",
    "from sklearn.model_selection import train_test_split\n",
    "from sklearn.linear_model import LinearRegression, LogisticRegression"
   ]
  },
  {
   "cell_type": "code",
   "execution_count": 2,
   "metadata": {},
   "outputs": [],
   "source": [
    "boston = datasets.load_boston()\n",
    "x_train_bos, x_test_bos, y_train_bos, y_test_bos = train_test_split(boston.data, boston.target,\n",
    "                                                                    test_size = 0.2, random_state = 4)\n"
   ]
  },
  {
   "cell_type": "code",
   "execution_count": 3,
   "metadata": {},
   "outputs": [
    {
     "name": "stdout",
     "output_type": "stream",
     "text": [
      " Mean Squared Error of tree regression is 24.3771568627451\n"
     ]
    }
   ],
   "source": [
    "tree_res = DecisionTreeRegressor(criterion = 'mse')\n",
    "tree_res.fit(x_train_bos,y_train_bos)\n",
    "y_pred_bos_tree = tree_res.predict(x_test_bos)\n",
    "mse_tree = metrics.mean_squared_error(y_test_bos, y_pred_bos_tree)\n",
    "print(f' Mean Squared Error of tree regression is {mse_tree}')"
   ]
  },
  {
   "cell_type": "code",
   "execution_count": 4,
   "metadata": {},
   "outputs": [
    {
     "name": "stdout",
     "output_type": "stream",
     "text": [
      " Mean Squared Error of linear regression is 25.41958712682191\n"
     ]
    }
   ],
   "source": [
    "lin = LinearRegression()\n",
    "lin.fit(x_train_bos,y_train_bos)\n",
    "y_pred_bos_lin = lin.predict(x_test_bos)\n",
    "mse_lin =  metrics.mean_squared_error(y_test_bos, y_pred_bos_lin)\n",
    "print(f' Mean Squared Error of linear regression is {mse_lin}')"
   ]
  },
  {
   "cell_type": "markdown",
   "metadata": {},
   "source": [
    "可以發現若利用回歸樹模型針對boston做預測會有比較好的結果。"
   ]
  },
  {
   "cell_type": "code",
   "execution_count": 5,
   "metadata": {},
   "outputs": [],
   "source": [
    "wine = datasets.load_wine()\n",
    "x_train_wine, x_test_wine, y_train_wine, y_test_wine = train_test_split(wine.data, wine.target,\n",
    "                                                                    test_size = 0.2, random_state = 4)\n"
   ]
  },
  {
   "cell_type": "code",
   "execution_count": 7,
   "metadata": {},
   "outputs": [
    {
     "name": "stdout",
     "output_type": "stream",
     "text": [
      "Accuracy Score of tree classifier is 0.8611111111111112\n"
     ]
    }
   ],
   "source": [
    "tree_class = DecisionTreeClassifier(criterion = 'gini',max_depth=5, min_samples_leaf = 5)\n",
    "tree_class.fit(x_train_wine,y_train_wine)\n",
    "y_pred_wine = tree_class.predict(x_test_wine)\n",
    "acc = metrics.accuracy_score(y_test_wine,y_pred_wine)\n",
    "print(f'Accuracy Score of tree classifier is {acc}')"
   ]
  },
  {
   "cell_type": "code",
   "execution_count": 8,
   "metadata": {},
   "outputs": [
    {
     "name": "stdout",
     "output_type": "stream",
     "text": [
      "Accuracy Score of tree classifier the second model is 0.8611111111111112\n"
     ]
    }
   ],
   "source": [
    "tree_class_2 = DecisionTreeClassifier(criterion = 'gini',max_depth=8, min_samples_leaf = 3)\n",
    "tree_class_2.fit(x_train_wine,y_train_wine)\n",
    "y_pred_wine_2 = tree_class.predict(x_test_wine)\n",
    "acc_2 = metrics.accuracy_score(y_test_wine,y_pred_wine_2)\n",
    "print(f'Accuracy Score of tree classifier the second model is {acc_2}')"
   ]
  },
  {
   "cell_type": "code",
   "execution_count": null,
   "metadata": {},
   "outputs": [],
   "source": []
  }
 ],
 "metadata": {
  "kernelspec": {
   "display_name": "Python 3",
   "language": "python",
   "name": "python3"
  },
  "language_info": {
   "codemirror_mode": {
    "name": "ipython",
    "version": 3
   },
   "file_extension": ".py",
   "mimetype": "text/x-python",
   "name": "python",
   "nbconvert_exporter": "python",
   "pygments_lexer": "ipython3",
   "version": "3.7.4"
  }
 },
 "nbformat": 4,
 "nbformat_minor": 2
}
