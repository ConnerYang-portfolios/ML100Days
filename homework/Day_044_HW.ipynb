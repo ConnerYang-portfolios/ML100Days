{
 "cells": [
  {
   "cell_type": "markdown",
   "metadata": {},
   "source": [
    "## [作業重點]\n",
    "確保你了解隨機森林模型中每個超參數的意義，並觀察調整超參數對結果的影響"
   ]
  },
  {
   "cell_type": "markdown",
   "metadata": {},
   "source": [
    "## 作業\n",
    "\n",
    "1. 試著調整 RandomForestClassifier(...) 中的參數，並觀察是否會改變結果？\n",
    "2. 改用其他資料集 (boston, wine)，並與回歸模型與決策樹的結果進行比較"
   ]
  },
  {
   "cell_type": "code",
   "execution_count": 1,
   "metadata": {},
   "outputs": [
    {
     "name": "stdout",
     "output_type": "stream",
     "text": [
      "Accuracy score of the clf is 0.9736842105263158\n"
     ]
    }
   ],
   "source": [
    "#1\n",
    "from sklearn import datasets, metrics\n",
    "from sklearn.ensemble import RandomForestClassifier, RandomForestRegressor\n",
    "from sklearn.model_selection import train_test_split\n",
    "from sklearn.linear_model import LinearRegression, LogisticRegression\n",
    "\n",
    "iris = datasets.load_iris()\n",
    "x_train, x_test, y_train, y_test = train_test_split(iris.data, iris.target, test_size=0.25, random_state=4)\n",
    "\n",
    "clf = RandomForestClassifier(n_estimators=40, max_depth=6)\n",
    "clf.fit(x_train,y_train)\n",
    "y_pred = clf.predict(x_test)\n",
    "acc = metrics.accuracy_score(y_test,y_pred)\n",
    "print(f'Accuracy score of the clf is {acc}')"
   ]
  },
  {
   "cell_type": "markdown",
   "metadata": {},
   "source": [
    "第一個嘗試沒有變化"
   ]
  },
  {
   "cell_type": "code",
   "execution_count": 2,
   "metadata": {},
   "outputs": [
    {
     "name": "stdout",
     "output_type": "stream",
     "text": [
      "Accuracy score of the clf is 0.9736842105263158\n"
     ]
    }
   ],
   "source": [
    "#2\n",
    "clf = RandomForestClassifier(n_estimators=10, max_depth=8,min_samples_split = 5)\n",
    "clf.fit(x_train,y_train)\n",
    "y_pred = clf.predict(x_test)\n",
    "acc = metrics.accuracy_score(y_test,y_pred)\n",
    "print(f'Accuracy score of the clf is {acc}')"
   ]
  },
  {
   "cell_type": "markdown",
   "metadata": {},
   "source": [
    "第二次嘗試仍然沒有變化"
   ]
  },
  {
   "cell_type": "markdown",
   "metadata": {},
   "source": [
    "# 第二題  Boston 資料集"
   ]
  },
  {
   "cell_type": "code",
   "execution_count": 3,
   "metadata": {},
   "outputs": [
    {
     "name": "stdout",
     "output_type": "stream",
     "text": [
      "The mean squared error of random forest regressor is 0.02631578947368421\n"
     ]
    }
   ],
   "source": [
    "boston = datasets.load_boston()\n",
    "x_train_bos, x_test_bos, y_train_bos, y_test_bos = train_test_split(boston.data, boston.target,test_size = 0.25, random_state = 4)\n",
    "\n",
    "rfRe = RandomForestRegressor(n_estimators = 200, max_depth = 3)\n",
    "rfRe.fit(x_train_bos,y_train_bos)\n",
    "y_pred_bos = rfRe.predict(x_test_bos)\n",
    "\n",
    "mse = metrics.mean_squared_error(y_test,y_pred)\n",
    "print(f'The mean squared error of random forest regressor is {mse}')"
   ]
  },
  {
   "cell_type": "code",
   "execution_count": 4,
   "metadata": {},
   "outputs": [
    {
     "name": "stdout",
     "output_type": "stream",
     "text": [
      " Mean Squared Error of linear regression is 26.95142562423582\n"
     ]
    }
   ],
   "source": [
    "lin = LinearRegression()\n",
    "lin.fit(x_train_bos,y_train_bos)\n",
    "y_pred_bos_lin = lin.predict(x_test_bos)\n",
    "mse_lin =  metrics.mean_squared_error(y_test_bos, y_pred_bos_lin)\n",
    "print(f' Mean Squared Error of linear regression is {mse_lin}')\n"
   ]
  },
  {
   "cell_type": "markdown",
   "metadata": {},
   "source": [
    "可以發現，透過RandomForest可以得到更小的mse，比回歸模型的準確度好非常多。"
   ]
  },
  {
   "cell_type": "markdown",
   "metadata": {},
   "source": [
    "# 第二題 Wine資料集"
   ]
  },
  {
   "cell_type": "code",
   "execution_count": 5,
   "metadata": {},
   "outputs": [
    {
     "name": "stdout",
     "output_type": "stream",
     "text": [
      "Accuracy score of the rfCl is 1.0\n"
     ]
    }
   ],
   "source": [
    "wine = datasets.load_wine()\n",
    "x_train_wine, x_test_wine, y_train_wine, y_test_wine = train_test_split(wine.data, wine.target,\n",
    "                                                                    test_size = 0.2, random_state = 4)\n",
    "rfCl = RandomForestClassifier(n_estimators=50, max_depth=5,min_samples_split = 5)\n",
    "rfCl.fit(x_train_wine,y_train_wine)\n",
    "y_pred_wine = rfCl.predict(x_test_wine)\n",
    "acc_rfCl = metrics.accuracy_score(y_test_wine, y_pred_wine)\n",
    "print(f'Accuracy score of the rfCl is {acc_rfCl}')"
   ]
  },
  {
   "cell_type": "code",
   "execution_count": 6,
   "metadata": {},
   "outputs": [
    {
     "name": "stdout",
     "output_type": "stream",
     "text": [
      "Accuracy score of the logi is 1.0\n"
     ]
    },
    {
     "name": "stderr",
     "output_type": "stream",
     "text": [
      "D:\\Anaconda3\\lib\\site-packages\\sklearn\\linear_model\\logistic.py:432: FutureWarning: Default solver will be changed to 'lbfgs' in 0.22. Specify a solver to silence this warning.\n",
      "  FutureWarning)\n",
      "D:\\Anaconda3\\lib\\site-packages\\sklearn\\linear_model\\logistic.py:469: FutureWarning: Default multi_class will be changed to 'auto' in 0.22. Specify the multi_class option to silence this warning.\n",
      "  \"this warning.\", FutureWarning)\n"
     ]
    }
   ],
   "source": [
    "logi = LogisticRegression()\n",
    "logi.fit(x_train_wine,y_train_wine)\n",
    "y_pred_logi = rfCl.predict(x_test_wine)\n",
    "acc_logi = metrics.accuracy_score(y_test_wine, y_pred_logi)\n",
    "print(f'Accuracy score of the logi is {acc_rfCl}')\n"
   ]
  },
  {
   "cell_type": "markdown",
   "metadata": {},
   "source": [
    "在此會發現其實Random Forest與Logistic Regression兩者模型解釋能力及預測未來能力在這個資料集是相同的。"
   ]
  },
  {
   "cell_type": "code",
   "execution_count": null,
   "metadata": {},
   "outputs": [],
   "source": []
  }
 ],
 "metadata": {
  "kernelspec": {
   "display_name": "Python 3",
   "language": "python",
   "name": "python3"
  },
  "language_info": {
   "codemirror_mode": {
    "name": "ipython",
    "version": 3
   },
   "file_extension": ".py",
   "mimetype": "text/x-python",
   "name": "python",
   "nbconvert_exporter": "python",
   "pygments_lexer": "ipython3",
   "version": "3.7.4"
  }
 },
 "nbformat": 4,
 "nbformat_minor": 2
}
