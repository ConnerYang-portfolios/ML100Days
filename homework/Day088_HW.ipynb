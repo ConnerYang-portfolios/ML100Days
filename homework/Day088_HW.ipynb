{
 "cells": [
  {
   "cell_type": "markdown",
   "metadata": {},
   "source": [
    "## Work\n",
    "1. 請嘗試寫一個 callback 用來記錄各類別在訓練過程中，對驗證集的 True Positive 與 True Negative"
   ]
  },
  {
   "cell_type": "code",
   "execution_count": 1,
   "metadata": {},
   "outputs": [],
   "source": [
    "import os\n",
    "import keras\n",
    "\n",
    "# Disable GPU\n",
    "os.environ[\"CUDA_VISIBLE_DEVICES\"] = \"\""
   ]
  },
  {
   "cell_type": "code",
   "execution_count": 2,
   "metadata": {},
   "outputs": [],
   "source": [
    "train, test = keras.datasets.cifar10.load_data()"
   ]
  },
  {
   "cell_type": "code",
   "execution_count": 3,
   "metadata": {},
   "outputs": [],
   "source": [
    "## 資料前處理\n",
    "def preproc_x(x, flatten=True):\n",
    "    x = x / 255.\n",
    "    if flatten:\n",
    "        x = x.reshape((len(x), -1))\n",
    "    return x\n",
    "\n",
    "def preproc_y(y, num_classes=10):\n",
    "    if y.shape[-1] == 1:\n",
    "        y = keras.utils.to_categorical(y, num_classes)\n",
    "    return y    "
   ]
  },
  {
   "cell_type": "code",
   "execution_count": 4,
   "metadata": {},
   "outputs": [],
   "source": [
    "x_train, y_train = train\n",
    "x_test, y_test = test\n",
    "\n",
    "# Preproc the inputs\n",
    "x_train = preproc_x(x_train)\n",
    "x_test = preproc_x(x_test)\n",
    "\n",
    "# Preprc the outputs\n",
    "y_train = preproc_y(y_train)\n",
    "y_test = preproc_y(y_test)"
   ]
  },
  {
   "cell_type": "code",
   "execution_count": 5,
   "metadata": {},
   "outputs": [],
   "source": [
    "from keras.layers import BatchNormalization\n",
    "def build_mlp(input_shape, output_units=10, num_neurons=[512, 256, 128]):\n",
    "    \"\"\"Code Here\n",
    "    建立你的神經網路\n",
    "    \"\"\"\n",
    "    input_layer = keras.layers.Input(input_shape)\n",
    "    for i, n_units in enumerate(num_neurons):\n",
    "        if i ==0:\n",
    "            x = keras.layers.Dense(units = n_units,\n",
    "                                  activation  = 'relu',\n",
    "                                  name = 'hidden_layer'+str(i))(input_layer)\n",
    "            x = BatchNormalization()(x)\n",
    "        else:\n",
    "            x = keras.layers.Dense(units = n_units,\n",
    "                                  activation  = 'relu',\n",
    "                                  name = 'hidden_layer'+str(i))(x)\n",
    "            x = BatchNormalization()(x)\n",
    "    out = keras.layers.Dense(units = output_units,\n",
    "                            activation = 'softmax',\n",
    "                            name = 'output')(x)\n",
    "    model = keras.models.Model(inputs = [input_layer], outputs = [out]) \n",
    "    return model"
   ]
  },
  {
   "cell_type": "code",
   "execution_count": 6,
   "metadata": {},
   "outputs": [],
   "source": [
    "## 超參數設定\n",
    "LEARNING_RATE = 1e-3\n",
    "EPOCHS = 25\n",
    "BATCH_SIZE = 1024\n",
    "MOMENTUM = 0.95"
   ]
  },
  {
   "cell_type": "code",
   "execution_count": 7,
   "metadata": {},
   "outputs": [],
   "source": [
    "import tensorflow as tf\n",
    "import keras.backend as K\n",
    "from keras.callbacks import Callback\n",
    "from sklearn.metrics import confusion_matrix\n",
    "\n",
    "class Record_tp_tn(Callback):\n",
    "    def __init__(self, validation_data=(x_test, y_test)):\n",
    "        self.validation_data = validation_data\n",
    "    def on_train_begin(self, epoch, logs={}):\n",
    "        logs = logs or {}\n",
    "        record_items = [\"val_auc\", \"val_f1sc\", \"val_fp\", \"val_fn\", \"val_tp\", \"val_tn\"]\n",
    "        for i in record_items:\n",
    "            try :\n",
    "                if i not in self.params['metrics']:\n",
    "                    self.params['metrics'].append(i)\n",
    "            except:\n",
    "                self.params['metrics'] = i\n",
    "    def on_epoch_end(self, epoch, logs={}, thres = 0.5):\n",
    "        logs = logs or {}\n",
    "        y_true = self.validation_data[1].argmax(axis = 1)\n",
    "        y_pred = self.model.predict(self.validation_data[0])\n",
    "        y_pred = (y_pred[:, 1] >= thres) *1\n",
    "        \n",
    "        val_tp = sum(y_true * y_pred)\n",
    "        val_tn = sum((y_true == 0) & (y_pred == 0))\n",
    "        logs[\"val_tp\"] = val_tp\n",
    "        logs[\"val_tn\"] = val_tn   \n",
    "        \n",
    "rec_tptn = Record_tp_tn()  "
   ]
  },
  {
   "cell_type": "code",
   "execution_count": 8,
   "metadata": {
    "scrolled": true
   },
   "outputs": [
    {
     "name": "stdout",
     "output_type": "stream",
     "text": [
      "Model: \"model\"\n",
      "_________________________________________________________________\n",
      "Layer (type)                 Output Shape              Param #   \n",
      "=================================================================\n",
      "input_1 (InputLayer)         [(None, 3072)]            0         \n",
      "_________________________________________________________________\n",
      "hidden_layer0 (Dense)        (None, 512)               1573376   \n",
      "_________________________________________________________________\n",
      "batch_normalization (BatchNo (None, 512)               2048      \n",
      "_________________________________________________________________\n",
      "hidden_layer1 (Dense)        (None, 256)               131328    \n",
      "_________________________________________________________________\n",
      "batch_normalization_1 (Batch (None, 256)               1024      \n",
      "_________________________________________________________________\n",
      "hidden_layer2 (Dense)        (None, 128)               32896     \n",
      "_________________________________________________________________\n",
      "batch_normalization_2 (Batch (None, 128)               512       \n",
      "_________________________________________________________________\n",
      "output (Dense)               (None, 10)                1290      \n",
      "=================================================================\n",
      "Total params: 1,742,474\n",
      "Trainable params: 1,740,682\n",
      "Non-trainable params: 1,792\n",
      "_________________________________________________________________\n",
      "Epoch 1/25\n",
      "49/49 [==============================] - 4s 65ms/step - loss: 2.4337 - accuracy: 0.2207 - val_loss: 2.1374 - val_accuracy: 0.2110\n",
      "Epoch 2/25\n",
      "49/49 [==============================] - 2s 47ms/step - loss: 1.7844 - accuracy: 0.3795 - val_loss: 1.9478 - val_accuracy: 0.3150\n",
      "Epoch 3/25\n",
      "49/49 [==============================] - 2s 47ms/step - loss: 1.6324 - accuracy: 0.4270 - val_loss: 1.8332 - val_accuracy: 0.3609\n",
      "Epoch 4/25\n",
      "49/49 [==============================] - 2s 44ms/step - loss: 1.5460 - accuracy: 0.4636 - val_loss: 1.7202 - val_accuracy: 0.4032\n",
      "Epoch 5/25\n",
      "49/49 [==============================] - 2s 43ms/step - loss: 1.4917 - accuracy: 0.4799 - val_loss: 1.6464 - val_accuracy: 0.4239\n",
      "Epoch 6/25\n",
      "49/49 [==============================] - 2s 44ms/step - loss: 1.4507 - accuracy: 0.4958 - val_loss: 1.5877 - val_accuracy: 0.4459\n",
      "Epoch 7/25\n",
      "49/49 [==============================] - 2s 45ms/step - loss: 1.4108 - accuracy: 0.5110 - val_loss: 1.5553 - val_accuracy: 0.4508\n",
      "Epoch 8/25\n",
      "49/49 [==============================] - 2s 45ms/step - loss: 1.3739 - accuracy: 0.5229 - val_loss: 1.5216 - val_accuracy: 0.4625\n",
      "Epoch 9/25\n",
      "49/49 [==============================] - 2s 46ms/step - loss: 1.3447 - accuracy: 0.5300 - val_loss: 1.4984 - val_accuracy: 0.4719\n",
      "Epoch 10/25\n",
      "49/49 [==============================] - 2s 48ms/step - loss: 1.3073 - accuracy: 0.5459 - val_loss: 1.4884 - val_accuracy: 0.4741\n",
      "Epoch 11/25\n",
      "49/49 [==============================] - 2s 48ms/step - loss: 1.2775 - accuracy: 0.5572 - val_loss: 1.4776 - val_accuracy: 0.4759\n",
      "Epoch 12/25\n",
      "49/49 [==============================] - 2s 47ms/step - loss: 1.2460 - accuracy: 0.5672 - val_loss: 1.4745 - val_accuracy: 0.4781\n",
      "Epoch 13/25\n",
      "49/49 [==============================] - 2s 49ms/step - loss: 1.2323 - accuracy: 0.5719 - val_loss: 1.4741 - val_accuracy: 0.4774\n",
      "Epoch 14/25\n",
      "49/49 [==============================] - 3s 53ms/step - loss: 1.1917 - accuracy: 0.5898 - val_loss: 1.4689 - val_accuracy: 0.4838\n",
      "Epoch 15/25\n",
      "49/49 [==============================] - 2s 50ms/step - loss: 1.1739 - accuracy: 0.5954 - val_loss: 1.4571 - val_accuracy: 0.4838\n",
      "Epoch 16/25\n",
      "49/49 [==============================] - 2s 47ms/step - loss: 1.1468 - accuracy: 0.6038 - val_loss: 1.4648 - val_accuracy: 0.4826\n",
      "Epoch 17/25\n",
      "49/49 [==============================] - 2s 49ms/step - loss: 1.1242 - accuracy: 0.6141 - val_loss: 1.4598 - val_accuracy: 0.4895\n",
      "Epoch 18/25\n",
      "49/49 [==============================] - 2s 47ms/step - loss: 1.1008 - accuracy: 0.6239 - val_loss: 1.4626 - val_accuracy: 0.4876\n",
      "Epoch 19/25\n",
      "49/49 [==============================] - 2s 47ms/step - loss: 1.0774 - accuracy: 0.6348 - val_loss: 1.4543 - val_accuracy: 0.4929\n",
      "Epoch 20/25\n",
      "49/49 [==============================] - 2s 49ms/step - loss: 1.0555 - accuracy: 0.6378 - val_loss: 1.4538 - val_accuracy: 0.4881\n",
      "Epoch 21/25\n",
      "49/49 [==============================] - 2s 47ms/step - loss: 1.0348 - accuracy: 0.6477 - val_loss: 1.4521 - val_accuracy: 0.4934\n",
      "Epoch 22/25\n",
      "49/49 [==============================] - 2s 46ms/step - loss: 1.0087 - accuracy: 0.6574 - val_loss: 1.4434 - val_accuracy: 0.4940\n",
      "Epoch 23/25\n",
      "49/49 [==============================] - 2s 47ms/step - loss: 0.9935 - accuracy: 0.6653 - val_loss: 1.4600 - val_accuracy: 0.4934\n",
      "Epoch 24/25\n",
      "49/49 [==============================] - 2s 48ms/step - loss: 0.9702 - accuracy: 0.6730 - val_loss: 1.4549 - val_accuracy: 0.4968\n",
      "Epoch 25/25\n",
      "49/49 [==============================] - 2s 47ms/step - loss: 0.9456 - accuracy: 0.6812 - val_loss: 1.4789 - val_accuracy: 0.4928\n"
     ]
    }
   ],
   "source": [
    "model = build_mlp(input_shape=x_train.shape[1:])\n",
    "model.summary()\n",
    "optimizer = keras.optimizers.SGD(lr=LEARNING_RATE, nesterov=True, momentum=MOMENTUM)\n",
    "model.compile(loss=\"categorical_crossentropy\", metrics=[\"accuracy\"], optimizer=optimizer)\n",
    "\n",
    "\"\"\"Code Here\n",
    "將 callbacks 放入模型訓練流程中\n",
    "\"\"\"\n",
    "model.fit(x_train, y_train, epochs = EPOCHS, batch_size = BATCH_SIZE,\n",
    "          validation_data = (x_test, y_test), shuffle = True,\n",
    "          callbacks=[rec_tptn])\n",
    "\n",
    "# Collect results\n",
    "train_loss = model.history.history[\"loss\"]\n",
    "valid_loss = model.history.history[\"val_loss\"]\n",
    "train_acc = model.history.history[\"accuracy\"]\n",
    "valid_acc = model.history.history[\"val_accuracy\"]\n",
    "\n",
    "\"\"\"Code Here\n",
    "將 tp/tn 從訓練完的模型中取出\n",
    "\"\"\"\n",
    "valid_tp = model.history.history[\"val_tp\"]\n",
    "valid_tn = model.history.history[\"val_tn\"]"
   ]
  },
  {
   "cell_type": "code",
   "execution_count": 9,
   "metadata": {},
   "outputs": [
    {
     "data": {
      "image/png": "[encoded data removed]",
      "text/plain": [
       "<Figure size 432x288 with 1 Axes>"
      ]
     },
     "metadata": {
      "needs_background": "light"
     },
     "output_type": "display_data"
    },
    {
     "data": {
      "image/png": "[encoded data removed]",
      "text/plain": [
       "<Figure size 432x288 with 1 Axes>"
      ]
     },
     "metadata": {
      "needs_background": "light"
     },
     "output_type": "display_data"
    },
    {
     "data": {
      "image/png": "[encoded data removed]",
      "text/plain": [
       "<Figure size 432x288 with 1 Axes>"
      ]
     },
     "metadata": {
      "needs_background": "light"
     },
     "output_type": "display_data"
    }
   ],
   "source": [
    "import matplotlib.pyplot as plt\n",
    "%matplotlib inline\n",
    "\n",
    "plt.plot(range(len(train_loss)), train_loss, label=\"train loss\")\n",
    "plt.plot(range(len(valid_loss)), valid_loss, label=\"valid loss\")\n",
    "plt.legend()\n",
    "plt.title(\"Loss\")\n",
    "plt.show()\n",
    "\n",
    "plt.plot(range(len(train_acc)), train_acc, label=\"train accuracy\")\n",
    "plt.plot(range(len(valid_acc)), valid_acc, label=\"valid accuracy\")\n",
    "plt.legend()\n",
    "plt.title(\"Accuracy\")\n",
    "plt.show()\n",
    "\n",
    "plt.plot(range(len(valid_tp)), valid_tp, label=\"valid tp\", color=\"navy\")\n",
    "plt.plot(range(len(valid_tn)), valid_tn, label=\"valid tn\", color=\"red\")\n",
    "plt.legend()\n",
    "plt.title(\"True positives and True Negatives\")\n",
    "plt.show()\n"
   ]
  },
  {
   "cell_type": "code",
   "execution_count": null,
   "metadata": {},
   "outputs": [],
   "source": []
  }
 ],
 "metadata": {
  "kernelspec": {
   "display_name": "Python 3",
   "language": "python",
   "name": "python3"
  },
  "language_info": {
   "codemirror_mode": {
    "name": "ipython",
    "version": 3
   },
   "file_extension": ".py",
   "mimetype": "text/x-python",
   "name": "python",
   "nbconvert_exporter": "python",
   "pygments_lexer": "ipython3",
   "version": "3.7.4"
  }
 },
 "nbformat": 4,
 "nbformat_minor": 2
}
